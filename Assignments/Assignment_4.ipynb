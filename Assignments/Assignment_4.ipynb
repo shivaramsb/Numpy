{
  "nbformat": 4,
  "nbformat_minor": 0,
  "metadata": {
    "colab": {
      "provenance": []
    },
    "kernelspec": {
      "name": "python3",
      "display_name": "Python 3"
    },
    "language_info": {
      "name": "python"
    }
  },
  "cells": [
    {
      "cell_type": "markdown",
      "source": [
        "**1. What is boolean indexing in Numpy?**"
      ],
      "metadata": {
        "id": "VSUfpxNjMyKX"
      }
    },
    {
      "cell_type": "markdown",
      "source": [
        "Boolean indexing allows selecting elements of an array using boolean conditions, returning an array where the condition is True."
      ],
      "metadata": {
        "id": "uF_zoIZ0M60J"
      }
    },
    {
      "cell_type": "markdown",
      "source": [
        "**2. How can you use fancy indexing to select multiple elements at once?**"
      ],
      "metadata": {
        "id": "2Ce1QIpWM-lW"
      }
    },
    {
      "cell_type": "markdown",
      "source": [
        "Fancy indexing uses arrays of indices to select multiple elements, enabling more complex slicing.\n"
      ],
      "metadata": {
        "id": "1UrBPaKgNXER"
      }
    },
    {
      "cell_type": "markdown",
      "source": [
        "**3. Explain the difference between shallow and deep copies of arrays in Numpy.**"
      ],
      "metadata": {
        "id": "FcJ0YHn0Nb6k"
      }
    },
    {
      "cell_type": "markdown",
      "source": [
        "A shallow copy creates a new array object but doesn't copy the original array's data. A deep copy creates a new array object and copies the original array's data.\n"
      ],
      "metadata": {
        "id": "8qKBjlsqNb9-"
      }
    },
    {
      "cell_type": "markdown",
      "source": [
        "**4. What does the np.where function do?**"
      ],
      "metadata": {
        "id": "AUmPK9a3NcB_"
      }
    },
    {
      "cell_type": "markdown",
      "source": [
        "The np.where function returns elements chosen from two arrays based on a condition, or the indices of elements that satisfy a condition."
      ],
      "metadata": {
        "id": "RWBHO9xXNcFr"
      }
    },
    {
      "cell_type": "markdown",
      "source": [],
      "metadata": {
        "id": "h1uvFza1N0vZ"
      }
    },
    {
      "cell_type": "markdown",
      "source": [
        "**5. Discuss the use of the np.take function.**"
      ],
      "metadata": {
        "id": "p6BGDgzWN00h"
      }
    },
    {
      "cell_type": "markdown",
      "source": [
        "The np.take function selects elements from an array along a specified axis using indices.\n"
      ],
      "metadata": {
        "id": "VNsc42ZdN7a-"
      }
    },
    {
      "cell_type": "markdown",
      "source": [
        "**6. Select all even numbers from a 1D Numpy array.**"
      ],
      "metadata": {
        "id": "sNV0hdjfOIXF"
      }
    },
    {
      "cell_type": "code",
      "source": [
        "import numpy as np\n",
        "array = np.arange(10)\n",
        "even_numbers = array[array % 2 == 0]\n",
        "print(\"Even numbers:\", even_numbers)"
      ],
      "metadata": {
        "colab": {
          "base_uri": "https://localhost:8080/"
        },
        "id": "hL5ns4n-OPJE",
        "outputId": "0de99066-2243-4d0f-97d4-3b69a6787c40"
      },
      "execution_count": 1,
      "outputs": [
        {
          "output_type": "stream",
          "name": "stdout",
          "text": [
            "Even numbers: [0 2 4 6 8]\n"
          ]
        }
      ]
    },
    {
      "cell_type": "markdown",
      "source": [
        "**7. Replace all odd numbers in a 1D Numpy array with -1.**"
      ],
      "metadata": {
        "id": "1ZJWReY3Ofll"
      }
    },
    {
      "cell_type": "code",
      "source": [
        "array[array % 2 != 0] = -1\n",
        "print(\"Array after replacing odd numbers with -1:\", array)"
      ],
      "metadata": {
        "colab": {
          "base_uri": "https://localhost:8080/"
        },
        "id": "Ba0etKM5Ojha",
        "outputId": "85fa32bd-b823-4174-ec43-baabd12e3c97"
      },
      "execution_count": 2,
      "outputs": [
        {
          "output_type": "stream",
          "name": "stdout",
          "text": [
            "Array after replacing odd numbers with -1: [ 0 -1  2 -1  4 -1  6 -1  8 -1]\n"
          ]
        }
      ]
    },
    {
      "cell_type": "markdown",
      "source": [
        "**8. Use fancy indexing to select the elements at positions (0,0), (1,1), and (2,2) from a 3x3 matrix.**"
      ],
      "metadata": {
        "id": "6bfNaGOZOmZ6"
      }
    },
    {
      "cell_type": "code",
      "source": [
        "matrix = np.arange(9).reshape(3, 3)\n",
        "selected_elements = matrix[[0, 1, 2], [0, 1, 2]]\n",
        "print(\"Selected elements using fancy indexing:\", selected_elements)"
      ],
      "metadata": {
        "colab": {
          "base_uri": "https://localhost:8080/"
        },
        "id": "4jOMz-kYOvuO",
        "outputId": "d5d74a7f-4c25-4490-b453-7a499f0227ca"
      },
      "execution_count": 3,
      "outputs": [
        {
          "output_type": "stream",
          "name": "stdout",
          "text": [
            "Selected elements using fancy indexing: [0 4 8]\n"
          ]
        }
      ]
    },
    {
      "cell_type": "markdown",
      "source": [
        "**9. Create a deep copy of a 2D Numpy array.**"
      ],
      "metadata": {
        "id": "CHzRFC6EO0JK"
      }
    },
    {
      "cell_type": "code",
      "source": [
        "original_array = np.array([[1, 2], [3, 4]])\n",
        "deep_copied_array = np.copy(original_array)\n",
        "print(\"Deep copied array:\\n\", deep_copied_array)"
      ],
      "metadata": {
        "colab": {
          "base_uri": "https://localhost:8080/"
        },
        "id": "0fc4T8gCOzoC",
        "outputId": "9b825c9a-2f7e-4029-bf5d-38e912dd33fc"
      },
      "execution_count": 6,
      "outputs": [
        {
          "output_type": "stream",
          "name": "stdout",
          "text": [
            "Deep copied array:\n",
            " [[1 2]\n",
            " [3 4]]\n"
          ]
        }
      ]
    },
    {
      "cell_type": "markdown",
      "source": [
        "**10. Use np.where to replace all elements greater than 5 with 10 in a Numpy array.**"
      ],
      "metadata": {
        "id": "fOBUwHV5OzU8"
      }
    },
    {
      "cell_type": "code",
      "source": [
        "array = np.array([1, 6, 3, 8, 5])\n",
        "modified_array = np.where(array > 5, 10, array)\n",
        "print(\"Array after replacement:\", modified_array)"
      ],
      "metadata": {
        "colab": {
          "base_uri": "https://localhost:8080/"
        },
        "id": "OSgi4sVIPEG5",
        "outputId": "72c4f998-bdf6-4f62-b383-d7aa75f773ed"
      },
      "execution_count": 5,
      "outputs": [
        {
          "output_type": "stream",
          "name": "stdout",
          "text": [
            "Array after replacement: [ 1 10  3 10  5]\n"
          ]
        }
      ]
    }
  ]
}