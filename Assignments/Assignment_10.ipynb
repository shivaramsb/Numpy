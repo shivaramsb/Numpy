{
  "nbformat": 4,
  "nbformat_minor": 0,
  "metadata": {
    "colab": {
      "provenance": []
    },
    "kernelspec": {
      "name": "python3",
      "display_name": "Python 3"
    },
    "language_info": {
      "name": "python"
    }
  },
  "cells": [
    {
      "cell_type": "markdown",
      "source": [
        "**1. What are some common techniques for optimizing Numpy code performance?**"
      ],
      "metadata": {
        "id": "rMUmJWXb8FJC"
      }
    },
    {
      "cell_type": "markdown",
      "source": [
        "Techniques include avoiding Python loops, using vectorized operations, minimizing memory usage, and using in-place operations.\n"
      ],
      "metadata": {
        "id": "XVifaxc-8FS-"
      }
    },
    {
      "cell_type": "markdown",
      "source": [
        "**2. Explain how broadcasting can improve performance in Numpy.**"
      ],
      "metadata": {
        "id": "Sp3wbkyU8Fd0"
      }
    },
    {
      "cell_type": "markdown",
      "source": [
        "Broadcasting avoids the need to create larger intermediate arrays by applying operations element-wise, reducing memory overhead and improving speed.\n"
      ],
      "metadata": {
        "id": "jiWs0P1Y8Fmv"
      }
    },
    {
      "cell_type": "markdown",
      "source": [
        "**3. What is the benefit of using in-place operations in Numpy?**"
      ],
      "metadata": {
        "id": "abNifzwX8Fz4"
      }
    },
    {
      "cell_type": "markdown",
      "source": [
        "In-place operations modify arrays without creating additional copies, saving memory and potentially improving performance.\n"
      ],
      "metadata": {
        "id": "mCQmkBqc8F8Q"
      }
    },
    {
      "cell_type": "markdown",
      "source": [
        "**4. How can you profile Numpy code to identify performance bottlenecks?**"
      ],
      "metadata": {
        "id": "JnehpZqX8GGD"
      }
    },
    {
      "cell_type": "markdown",
      "source": [
        "Profiling tools like cProfile, line_profiler, and time measurement functions like timeit can help identify slow code sections.\n"
      ],
      "metadata": {
        "id": "7ClI7vBl8rN8"
      }
    },
    {
      "cell_type": "markdown",
      "source": [
        "**5. Discuss the role of data alignment in optimizing Numpy operations**\n",
        "\n",
        "\n",
        "\n"
      ],
      "metadata": {
        "id": "3Lm7F6D-8rWv"
      }
    },
    {
      "cell_type": "markdown",
      "source": [
        "Properly aligned data ensures efficient memory access patterns, improving cache utilization and overall performance.\n",
        "\n"
      ],
      "metadata": {
        "id": "OAawzJ6Q8reD"
      }
    },
    {
      "cell_type": "markdown",
      "source": [
        "**6. Use vectorized operations to add two large arrays element-wise.**\n",
        "\n",
        "\n",
        "\n"
      ],
      "metadata": {
        "id": "G2KdhsBS82xp"
      }
    },
    {
      "cell_type": "code",
      "source": [
        "array1 = np.random.rand(1000000)\n",
        "array2 = np.random.rand(1000000)\n",
        "result = array1 + array2\n"
      ],
      "metadata": {
        "id": "lgHA0V05851a"
      },
      "execution_count": 8,
      "outputs": []
    },
    {
      "cell_type": "markdown",
      "source": [
        "**7. Measure the execution time of a Numpy operation using timeit.**"
      ],
      "metadata": {
        "id": "T4cXHEJ99C8O"
      }
    },
    {
      "cell_type": "code",
      "source": [
        "import timeit\n",
        "execution_time = timeit.timeit('array1 + array2', globals=globals(), number=100)\n",
        "print(\"Execution time:\", execution_time)\n"
      ],
      "metadata": {
        "colab": {
          "base_uri": "https://localhost:8080/"
        },
        "id": "sipsv6BB9DQh",
        "outputId": "dea87333-b155-43b2-a518-55b9cedd68c0"
      },
      "execution_count": 9,
      "outputs": [
        {
          "output_type": "stream",
          "name": "stdout",
          "text": [
            "Execution time: 0.26860291200000574\n"
          ]
        }
      ]
    },
    {
      "cell_type": "markdown",
      "source": [
        "**8. Perform an in-place addition on a Numpy array.**\n"
      ],
      "metadata": {
        "id": "LwhZNzUb9DqW"
      }
    },
    {
      "cell_type": "code",
      "source": [
        "array = np.array([1, 2, 3])\n",
        "array += 5\n",
        "print(\"In-place addition result:\", array)\n"
      ],
      "metadata": {
        "colab": {
          "base_uri": "https://localhost:8080/"
        },
        "id": "0qjlEHIP9Gn8",
        "outputId": "5fa4bbd2-a8eb-49de-f999-b50fb744e74a"
      },
      "execution_count": 10,
      "outputs": [
        {
          "output_type": "stream",
          "name": "stdout",
          "text": [
            "In-place addition result: [6 7 8]\n"
          ]
        }
      ]
    },
    {
      "cell_type": "markdown",
      "source": [
        "**9.Optimize a loop-based operation by converting it to a vectorized operation.**"
      ],
      "metadata": {
        "id": "jwZ_d1to9G-_"
      }
    },
    {
      "cell_type": "code",
      "source": [
        "array = np.arange(1000000)\n",
        "vectorized_result = array * 2\n"
      ],
      "metadata": {
        "id": "jzejm23E9HMV"
      },
      "execution_count": 11,
      "outputs": []
    },
    {
      "cell_type": "markdown",
      "source": [
        "**10. Profile a Numpy operation using cProfile.**"
      ],
      "metadata": {
        "id": "D5JpZv2F9HYN"
      }
    },
    {
      "cell_type": "code",
      "source": [
        "import cProfile\n",
        "def numpy_operation():\n",
        "    result = array1 + array2\n",
        "cProfile.run('numpy_operation()')\n"
      ],
      "metadata": {
        "colab": {
          "base_uri": "https://localhost:8080/"
        },
        "id": "RvrwdTam9Hit",
        "outputId": "79096bba-23af-4d23-cc00-06cf48315284"
      },
      "execution_count": 12,
      "outputs": [
        {
          "output_type": "stream",
          "name": "stdout",
          "text": [
            "         4 function calls in 0.015 seconds\n",
            "\n",
            "   Ordered by: standard name\n",
            "\n",
            "   ncalls  tottime  percall  cumtime  percall filename:lineno(function)\n",
            "        1    0.015    0.015    0.015    0.015 <ipython-input-12-b53f2a12203a>:2(numpy_operation)\n",
            "        1    0.000    0.000    0.015    0.015 <string>:1(<module>)\n",
            "        1    0.000    0.000    0.015    0.015 {built-in method builtins.exec}\n",
            "        1    0.000    0.000    0.000    0.000 {method 'disable' of '_lsprof.Profiler' objects}\n",
            "\n",
            "\n"
          ]
        }
      ]
    }
  ]
}