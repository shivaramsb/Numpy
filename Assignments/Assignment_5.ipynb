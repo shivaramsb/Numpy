{
  "nbformat": 4,
  "nbformat_minor": 0,
  "metadata": {
    "colab": {
      "provenance": []
    },
    "kernelspec": {
      "name": "python3",
      "display_name": "Python 3"
    },
    "language_info": {
      "name": "python"
    }
  },
  "cells": [
    {
      "cell_type": "markdown",
      "source": [
        "**1. How do you perform element-wise addition of two Numpy arrays?**"
      ],
      "metadata": {
        "id": "miuT32GtQBZI"
      }
    },
    {
      "cell_type": "markdown",
      "source": [
        "Element-wise addition is performed using the + operator or the np.add function.\n"
      ],
      "metadata": {
        "id": "Y-J9MVhTQBiI"
      }
    },
    {
      "cell_type": "markdown",
      "source": [
        "**2. Explain the use of the np.dot function.**"
      ],
      "metadata": {
        "id": "QNQ2dvIWQBsU"
      }
    },
    {
      "cell_type": "markdown",
      "source": [
        "The np.dot function performs dot product of two arrays. For 1D arrays, it computes the inner product. For 2D arrays, it performs matrix multiplication.\n"
      ],
      "metadata": {
        "id": "XLTSDdLEQB0k"
      }
    },
    {
      "cell_type": "markdown",
      "source": [
        "**3. What is the purpose of the np.sum function?**"
      ],
      "metadata": {
        "id": "hbfiCoEWQB9L"
      }
    },
    {
      "cell_type": "markdown",
      "source": [
        "The np.sum function computes the sum of array elements over a specified axis or the entire array if no axis is specified.\n"
      ],
      "metadata": {
        "id": "g7MTDJrNQr-n"
      }
    },
    {
      "cell_type": "markdown",
      "source": [
        "**4. Discuss the np.mean and np.median functions.**\n"
      ],
      "metadata": {
        "id": "phGvK2h5QCGU"
      }
    },
    {
      "cell_type": "markdown",
      "source": [
        "np.mean calculates the average of array elements, while np.median calculates the median value."
      ],
      "metadata": {
        "id": "wd2ASepAQCO2"
      }
    },
    {
      "cell_type": "markdown",
      "source": [
        "**5. How do you compute the standard deviation of an array in Numpy?**"
      ],
      "metadata": {
        "id": "eNX6wgkBQCXO"
      }
    },
    {
      "cell_type": "markdown",
      "source": [
        "The standard deviation is computed using the np.std function.\n"
      ],
      "metadata": {
        "id": "WSqUa7MXQCfR"
      }
    },
    {
      "cell_type": "markdown",
      "source": [
        "**6.Perform element-wise multiplication of two Numpy arrays.**"
      ],
      "metadata": {
        "id": "P9FBFTiEQCoG"
      }
    },
    {
      "cell_type": "code",
      "source": [
        "import numpy as np\n",
        "array1 = np.array([1, 2, 3])\n",
        "array2 = np.array([4, 5, 6])\n",
        "result = array1 * array2\n",
        "print(\"Element-wise multiplication:\", result)"
      ],
      "metadata": {
        "colab": {
          "base_uri": "https://localhost:8080/"
        },
        "id": "OtEuROEGQ_Ft",
        "outputId": "2cb8b4b9-aeae-48ef-de19-37f123e26cce"
      },
      "execution_count": 1,
      "outputs": [
        {
          "output_type": "stream",
          "name": "stdout",
          "text": [
            "Element-wise multiplication: [ 4 10 18]\n"
          ]
        }
      ]
    },
    {
      "cell_type": "markdown",
      "source": [
        "**7. Calculate the dot product of two 1D Numpy arrays.**"
      ],
      "metadata": {
        "id": "-3q3JUbGRE3N"
      }
    },
    {
      "cell_type": "code",
      "source": [
        "dot_product = np.dot(array1, array2)\n",
        "print(\"Dot product:\", dot_product)"
      ],
      "metadata": {
        "colab": {
          "base_uri": "https://localhost:8080/"
        },
        "id": "Zk6lwgT0RMBs",
        "outputId": "b07f0722-3093-4ed9-de2f-4fad0e5baf91"
      },
      "execution_count": 2,
      "outputs": [
        {
          "output_type": "stream",
          "name": "stdout",
          "text": [
            "Dot product: 32\n"
          ]
        }
      ]
    },
    {
      "cell_type": "markdown",
      "source": [
        "**8. Compute the sum of all elements in a 2D Numpy array.**"
      ],
      "metadata": {
        "id": "U906wlakRQK3"
      }
    },
    {
      "cell_type": "code",
      "source": [
        "matrix = np.array([[1, 2, 3], [4, 5, 6]])\n",
        "total_sum = np.sum(matrix)\n",
        "print(\"Sum of all elements:\", total_sum)"
      ],
      "metadata": {
        "colab": {
          "base_uri": "https://localhost:8080/"
        },
        "id": "q4s9tZgMRWoD",
        "outputId": "2011478b-498c-4ccc-d5cf-f61fd3fa9c9e"
      },
      "execution_count": 3,
      "outputs": [
        {
          "output_type": "stream",
          "name": "stdout",
          "text": [
            "Sum of all elements: 21\n"
          ]
        }
      ]
    },
    {
      "cell_type": "markdown",
      "source": [
        "**9. Find the mean of elements in a 1D Numpy array.**"
      ],
      "metadata": {
        "id": "iUSAhizURed7"
      }
    },
    {
      "cell_type": "code",
      "source": [
        "mean_value = np.mean(array1)\n",
        "print(\"Mean of elements:\", mean_value)\n"
      ],
      "metadata": {
        "colab": {
          "base_uri": "https://localhost:8080/"
        },
        "id": "BCw2MUDLRfaI",
        "outputId": "bd1f1d55-aaa2-41da-af8e-c9234e13d977"
      },
      "execution_count": 4,
      "outputs": [
        {
          "output_type": "stream",
          "name": "stdout",
          "text": [
            "Mean of elements: 2.0\n"
          ]
        }
      ]
    },
    {
      "cell_type": "markdown",
      "source": [
        "**10. Compute the standard deviation of elements in a 2D Numpy array.**"
      ],
      "metadata": {
        "id": "xo3JpAzeRitK"
      }
    },
    {
      "cell_type": "code",
      "source": [
        "std_dev = np.std(matrix)\n",
        "print(\"Standard deviation of elements:\", std_dev)"
      ],
      "metadata": {
        "colab": {
          "base_uri": "https://localhost:8080/"
        },
        "id": "c_vs99GtRiaO",
        "outputId": "e7aa1ab3-4727-4c9f-bba3-0e168a4a0103"
      },
      "execution_count": 5,
      "outputs": [
        {
          "output_type": "stream",
          "name": "stdout",
          "text": [
            "Standard deviation of elements: 1.707825127659933\n"
          ]
        }
      ]
    }
  ]
}