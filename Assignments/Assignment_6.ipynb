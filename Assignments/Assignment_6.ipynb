{
  "nbformat": 4,
  "nbformat_minor": 0,
  "metadata": {
    "colab": {
      "provenance": []
    },
    "kernelspec": {
      "name": "python3",
      "display_name": "Python 3"
    },
    "language_info": {
      "name": "python"
    }
  },
  "cells": [
    {
      "cell_type": "markdown",
      "source": [
        "**1. What is a matrix in the context of linear algebra?**"
      ],
      "metadata": {
        "id": "CJtbk_4kTs6f"
      }
    },
    {
      "cell_type": "markdown",
      "source": [
        "**A matrix is a two-dimensional array of numbers arranged in rows and columns, representing linear transformations or systems of linear equations.**"
      ],
      "metadata": {
        "id": "KnrZKRGgTtGn"
      }
    },
    {
      "cell_type": "markdown",
      "source": [
        "**2. Explain the concept of matrix multiplication.**"
      ],
      "metadata": {
        "id": "xeWCbPyATtSM"
      }
    },
    {
      "cell_type": "markdown",
      "source": [
        "Matrix multiplication involves taking the dot product of rows and columns from two matrices, resulting in a new matrix. The number of columns in the first matrix must match the number of rows in the second."
      ],
      "metadata": {
        "id": "32jHVwjaUD_z"
      }
    },
    {
      "cell_type": "markdown",
      "source": [],
      "metadata": {
        "id": "2IfLM_TwUHgD"
      }
    },
    {
      "cell_type": "markdown",
      "source": [
        "**3. What does the np.linalg.inv function do?**"
      ],
      "metadata": {
        "id": "Ep9fq35LUHqc"
      }
    },
    {
      "cell_type": "markdown",
      "source": [
        "The np.linalg.inv function computes the inverse of a given square matrix.\n"
      ],
      "metadata": {
        "id": "-uXwvQxGUNZM"
      }
    },
    {
      "cell_type": "markdown",
      "source": [
        "**4. How can you solve a system of linear equations using Numpy?**"
      ],
      "metadata": {
        "id": "C4e8LvngUQ7E"
      }
    },
    {
      "cell_type": "markdown",
      "source": [
        "A system of linear equations can be solved using np.linalg.solve, which finds the solution vector that satisfies the linear equations."
      ],
      "metadata": {
        "id": "6I1MjfH7URI8"
      }
    },
    {
      "cell_type": "markdown",
      "source": [],
      "metadata": {
        "id": "zOHns-7EUeFu"
      }
    },
    {
      "cell_type": "markdown",
      "source": [
        "**5. Discuss the use of the np.linalg.eig function.**"
      ],
      "metadata": {
        "id": "YWRPslWEUePa"
      }
    },
    {
      "cell_type": "markdown",
      "source": [
        "The np.linalg.eig function computes the eigenvalues and eigenvectors of a square matrix.\n"
      ],
      "metadata": {
        "id": "I0iC6eELUkBE"
      }
    },
    {
      "cell_type": "markdown",
      "source": [
        "**6. Create a 3x3 matrix and find its determinant.**"
      ],
      "metadata": {
        "id": "L61zfJ5EUmuF"
      }
    },
    {
      "cell_type": "code",
      "source": [
        "import numpy as np\n",
        "matrix = np.array([[1, 2, 3], [4, 5, 6], [7, 8, 9]])\n",
        "determinant = np.linalg.det(matrix)\n",
        "print(\"Determinant of the matrix:\", determinant)"
      ],
      "metadata": {
        "colab": {
          "base_uri": "https://localhost:8080/"
        },
        "id": "zKySPLGSUrHS",
        "outputId": "bec55363-e49c-45a9-d7ad-af43e8009582"
      },
      "execution_count": 1,
      "outputs": [
        {
          "output_type": "stream",
          "name": "stdout",
          "text": [
            "Determinant of the matrix: 0.0\n"
          ]
        }
      ]
    },
    {
      "cell_type": "markdown",
      "source": [
        "**7. Find the inverse of a 2x2 matrix.**"
      ],
      "metadata": {
        "id": "eyv95Sx0XU1D"
      }
    },
    {
      "cell_type": "code",
      "source": [
        "matrix_2x2 = np.array([[1, 2], [3, 4]])\n",
        "inverse_matrix = np.linalg.inv(matrix_2x2)\n",
        "print(\"Inverse of the matrix:\\n\", inverse_matrix)\n"
      ],
      "metadata": {
        "colab": {
          "base_uri": "https://localhost:8080/"
        },
        "id": "unsGsPIIXXfs",
        "outputId": "20120575-49f7-45d2-b994-adf33571666b"
      },
      "execution_count": 2,
      "outputs": [
        {
          "output_type": "stream",
          "name": "stdout",
          "text": [
            "Inverse of the matrix:\n",
            " [[-2.   1. ]\n",
            " [ 1.5 -0.5]]\n"
          ]
        }
      ]
    },
    {
      "cell_type": "markdown",
      "source": [
        "**8. Perform matrix multiplication on two 2x2 matrices.**"
      ],
      "metadata": {
        "id": "x9WxdF9VXbgn"
      }
    },
    {
      "cell_type": "code",
      "source": [
        "matrix1 = np.array([[1, 2], [3, 4]])\n",
        "matrix2 = np.array([[5, 6], [7, 8]])\n",
        "product_matrix = np.dot(matrix1, matrix2)\n",
        "print(\"Product of the matrices:\\n\", product_matrix)\n"
      ],
      "metadata": {
        "colab": {
          "base_uri": "https://localhost:8080/"
        },
        "id": "vzs198mgXmDa",
        "outputId": "0eb66b97-afe8-4af5-e66d-0fb711ab3c36"
      },
      "execution_count": 3,
      "outputs": [
        {
          "output_type": "stream",
          "name": "stdout",
          "text": [
            "Product of the matrices:\n",
            " [[19 22]\n",
            " [43 50]]\n"
          ]
        }
      ]
    },
    {
      "cell_type": "markdown",
      "source": [
        "**9. Solve the system of equations 3x + y = 9 and x + 2y = 8.**"
      ],
      "metadata": {
        "id": "VuFBkY9fXtPK"
      }
    },
    {
      "cell_type": "code",
      "source": [
        "coefficients = np.array([[3, 1], [1, 2]])\n",
        "constants = np.array([9, 8])\n",
        "solution = np.linalg.solve(coefficients, constants)\n",
        "print(\"Solution of the system:\", solution)"
      ],
      "metadata": {
        "colab": {
          "base_uri": "https://localhost:8080/"
        },
        "id": "J4SD_JnQXzsl",
        "outputId": "d66e4ae5-6a29-4beb-a32f-b8ef7b9dd34c"
      },
      "execution_count": 4,
      "outputs": [
        {
          "output_type": "stream",
          "name": "stdout",
          "text": [
            "Solution of the system: [2. 3.]\n"
          ]
        }
      ]
    },
    {
      "cell_type": "markdown",
      "source": [
        "**10. Compute the eigenvalues and eigenvectors of a 2x2 matrix.**"
      ],
      "metadata": {
        "id": "tu2OWCPEX5Dj"
      }
    },
    {
      "cell_type": "code",
      "source": [
        "eigenvalues, eigenvectors = np.linalg.eig(matrix_2x2)\n",
        "print(\"Eigenvalues:\", eigenvalues)\n",
        "print(\"Eigenvectors:\\n\", eigenvectors)"
      ],
      "metadata": {
        "colab": {
          "base_uri": "https://localhost:8080/"
        },
        "id": "JwEeeBsFX7Yp",
        "outputId": "a9d7d438-a805-4666-d4f9-d32f7735c9e1"
      },
      "execution_count": 5,
      "outputs": [
        {
          "output_type": "stream",
          "name": "stdout",
          "text": [
            "Eigenvalues: [-0.37228132  5.37228132]\n",
            "Eigenvectors:\n",
            " [[-0.82456484 -0.41597356]\n",
            " [ 0.56576746 -0.90937671]]\n"
          ]
        }
      ]
    }
  ]
}