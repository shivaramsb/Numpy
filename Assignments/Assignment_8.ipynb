{
  "nbformat": 4,
  "nbformat_minor": 0,
  "metadata": {
    "colab": {
      "provenance": []
    },
    "kernelspec": {
      "name": "python3",
      "display_name": "Python 3"
    },
    "language_info": {
      "name": "python"
    }
  },
  "cells": [
    {
      "cell_type": "markdown",
      "source": [
        "**1. What is the purpose of the np.tile function?**"
      ],
      "metadata": {
        "id": "rMUmJWXb8FJC"
      }
    },
    {
      "cell_type": "markdown",
      "source": [
        "The np.tile function constructs a new array by repeating an input array the number of times specified by the reps parameter.\n"
      ],
      "metadata": {
        "id": "XVifaxc-8FS-"
      }
    },
    {
      "cell_type": "markdown",
      "source": [
        "**2. Explain the use of the np.repeat function.**"
      ],
      "metadata": {
        "id": "Sp3wbkyU8Fd0"
      }
    },
    {
      "cell_type": "markdown",
      "source": [
        "The np.repeat function repeats elements of an array along a specified axis.\n"
      ],
      "metadata": {
        "id": "jiWs0P1Y8Fmv"
      }
    },
    {
      "cell_type": "markdown",
      "source": [
        "**3. What is the difference between np.vstack and np.hstack?**"
      ],
      "metadata": {
        "id": "abNifzwX8Fz4"
      }
    },
    {
      "cell_type": "markdown",
      "source": [
        "np.vstack stacks arrays vertically (row-wise), while np.hstack stacks arrays horizontally (column-wise).\n"
      ],
      "metadata": {
        "id": "mCQmkBqc8F8Q"
      }
    },
    {
      "cell_type": "markdown",
      "source": [
        "**4. How can you add a new axis to an array in Numpy?**"
      ],
      "metadata": {
        "id": "JnehpZqX8GGD"
      }
    },
    {
      "cell_type": "markdown",
      "source": [
        "A new axis can be added using np.newaxis or None within the array indexing."
      ],
      "metadata": {
        "id": "7ClI7vBl8rN8"
      }
    },
    {
      "cell_type": "markdown",
      "source": [
        "**5. Discuss the use of the np.meshgrid function.**\n",
        "\n",
        "\n",
        "\n"
      ],
      "metadata": {
        "id": "3Lm7F6D-8rWv"
      }
    },
    {
      "cell_type": "markdown",
      "source": [
        "The np.meshgrid function creates coordinate matrices from coordinate vectors, useful for evaluating functions on a grid.\n"
      ],
      "metadata": {
        "id": "OAawzJ6Q8reD"
      }
    },
    {
      "cell_type": "markdown",
      "source": [
        "**6. Repeat the elements of a 1D Numpy array three times.**\n",
        "\n",
        "\n",
        "\n"
      ],
      "metadata": {
        "id": "G2KdhsBS82xp"
      }
    },
    {
      "cell_type": "code",
      "source": [
        "array = np.array([1, 2, 3])\n",
        "repeated_array = np.repeat(array, 3)\n",
        "print(\"Repeated array:\", repeated_array)"
      ],
      "metadata": {
        "colab": {
          "base_uri": "https://localhost:8080/"
        },
        "id": "lgHA0V05851a",
        "outputId": "528f699f-30f3-40df-98f7-0778a34f94b8"
      },
      "execution_count": 6,
      "outputs": [
        {
          "output_type": "stream",
          "name": "stdout",
          "text": [
            "Repeated array: [1 1 1 2 2 2 3 3 3]\n"
          ]
        }
      ]
    },
    {
      "cell_type": "markdown",
      "source": [
        "**7. Tile a 2x2 matrix into a 4x4 matrix.**"
      ],
      "metadata": {
        "id": "T4cXHEJ99C8O"
      }
    },
    {
      "cell_type": "code",
      "source": [
        "matrix = np.array([[1, 2], [3, 4]])\n",
        "tiled_matrix = np.tile(matrix, (2, 2))\n",
        "print(\"Tiled 4x4 matrix:\\n\", tiled_matrix)\n"
      ],
      "metadata": {
        "colab": {
          "base_uri": "https://localhost:8080/"
        },
        "id": "sipsv6BB9DQh",
        "outputId": "17acad2e-b7e8-43b7-8474-927191c87b24"
      },
      "execution_count": 7,
      "outputs": [
        {
          "output_type": "stream",
          "name": "stdout",
          "text": [
            "Tiled 4x4 matrix:\n",
            " [[1 2 1 2]\n",
            " [3 4 3 4]\n",
            " [1 2 1 2]\n",
            " [3 4 3 4]]\n"
          ]
        }
      ]
    },
    {
      "cell_type": "markdown",
      "source": [
        "**8.Use np.meshgrid to create a grid of points from two 1D arrays.**\n"
      ],
      "metadata": {
        "id": "LwhZNzUb9DqW"
      }
    },
    {
      "cell_type": "code",
      "source": [
        "x = np.array([1, 2, 3])\n",
        "y = np.array([4, 5, 6])\n",
        "X, Y = np.meshgrid(x, y)\n",
        "print(\"X:\\n\", X)\n",
        "print(\"Y:\\n\", Y)"
      ],
      "metadata": {
        "colab": {
          "base_uri": "https://localhost:8080/"
        },
        "id": "0qjlEHIP9Gn8",
        "outputId": "ea6b68f6-84d0-4402-c61c-064f78fd58d7"
      },
      "execution_count": 8,
      "outputs": [
        {
          "output_type": "stream",
          "name": "stdout",
          "text": [
            "X:\n",
            " [[1 2 3]\n",
            " [1 2 3]\n",
            " [1 2 3]]\n",
            "Y:\n",
            " [[4 4 4]\n",
            " [5 5 5]\n",
            " [6 6 6]]\n"
          ]
        }
      ]
    },
    {
      "cell_type": "markdown",
      "source": [
        "**9. Stack two 1D arrays of different lengths horizontally after padding the shorter one with zeros.**"
      ],
      "metadata": {
        "id": "jwZ_d1to9G-_"
      }
    },
    {
      "cell_type": "code",
      "source": [
        "array1 = np.array([1, 2, 3, 4])\n",
        "array2 = np.array([5, 6])\n",
        "padded_array2 = np.pad(array2, (0, len(array1) - len(array2)), 'constant')\n",
        "stacked_horizontally = np.hstack((array1, padded_array2))\n",
        "print(\"Horizontally stacked arrays after padding:\\n\", stacked_horizontally)\n"
      ],
      "metadata": {
        "colab": {
          "base_uri": "https://localhost:8080/"
        },
        "id": "jzejm23E9HMV",
        "outputId": "dc56f687-2210-4f52-8a55-604532b410ea"
      },
      "execution_count": 9,
      "outputs": [
        {
          "output_type": "stream",
          "name": "stdout",
          "text": [
            "Horizontally stacked arrays after padding:\n",
            " [1 2 3 4 5 6 0 0]\n"
          ]
        }
      ]
    },
    {
      "cell_type": "markdown",
      "source": [
        "**10. Add a new axis to a 1D array to convert it into a row vector.**"
      ],
      "metadata": {
        "id": "D5JpZv2F9HYN"
      }
    },
    {
      "cell_type": "code",
      "source": [
        "array = np.array([1, 2, 3])\n",
        "row_vector = array[np.newaxis, :]\n",
        "print(\"Row vector:\\n\", row_vector)"
      ],
      "metadata": {
        "colab": {
          "base_uri": "https://localhost:8080/"
        },
        "id": "RvrwdTam9Hit",
        "outputId": "8b408a86-ade5-4938-a143-4077e3000428"
      },
      "execution_count": 10,
      "outputs": [
        {
          "output_type": "stream",
          "name": "stdout",
          "text": [
            "Row vector:\n",
            " [[1 2 3]]\n"
          ]
        }
      ]
    }
  ]
}