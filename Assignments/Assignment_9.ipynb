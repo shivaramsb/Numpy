{
  "nbformat": 4,
  "nbformat_minor": 0,
  "metadata": {
    "colab": {
      "provenance": []
    },
    "kernelspec": {
      "name": "python3",
      "display_name": "Python 3"
    },
    "language_info": {
      "name": "python"
    }
  },
  "cells": [
    {
      "cell_type": "markdown",
      "source": [
        "**1. What is Pandas and how does it integrate with Numpy?**"
      ],
      "metadata": {
        "id": "rMUmJWXb8FJC"
      }
    },
    {
      "cell_type": "markdown",
      "source": [
        "Pandas is a data manipulation and analysis library built on top of Numpy, providing data structures like Series and DataFrame for handling structured data.\n"
      ],
      "metadata": {
        "id": "XVifaxc-8FS-"
      }
    },
    {
      "cell_type": "markdown",
      "source": [
        "**2. How can you convert a Numpy array to a Pandas DataFrame?**"
      ],
      "metadata": {
        "id": "Sp3wbkyU8Fd0"
      }
    },
    {
      "cell_type": "markdown",
      "source": [
        "A Numpy array can be converted to a Pandas DataFrame using the pd.DataFrame constructor.\n"
      ],
      "metadata": {
        "id": "jiWs0P1Y8Fmv"
      }
    },
    {
      "cell_type": "markdown",
      "source": [
        "**3. Explain how to perform element-wise operations on a DataFrame using Numpy functions.**"
      ],
      "metadata": {
        "id": "abNifzwX8Fz4"
      }
    },
    {
      "cell_type": "markdown",
      "source": [
        "Numpy functions can be applied element-wise to DataFrame columns or the entire DataFrame by accessing the underlying Numpy array using .values.\n"
      ],
      "metadata": {
        "id": "mCQmkBqc8F8Q"
      }
    },
    {
      "cell_type": "markdown",
      "source": [
        "**4. What are the advantages of using Pandas over Numpy for data manipulation?**"
      ],
      "metadata": {
        "id": "JnehpZqX8GGD"
      }
    },
    {
      "cell_type": "markdown",
      "source": [
        "Pandas offers more advanced data manipulation capabilities, handling of missing data, and more readable and user-friendly data structures compared to Numpy.\n"
      ],
      "metadata": {
        "id": "7ClI7vBl8rN8"
      }
    },
    {
      "cell_type": "markdown",
      "source": [
        "**5. Discuss the use of the pd.to_numpy function.**\n",
        "\n",
        "\n",
        "\n"
      ],
      "metadata": {
        "id": "3Lm7F6D-8rWv"
      }
    },
    {
      "cell_type": "markdown",
      "source": [
        "The pd.to_numpy function converts a DataFrame or Series to a Numpy array.\n"
      ],
      "metadata": {
        "id": "OAawzJ6Q8reD"
      }
    },
    {
      "cell_type": "markdown",
      "source": [
        "**6. Convert a 2D Numpy array to a Pandas DataFrame with specified column names.**\n",
        "\n",
        "\n",
        "\n"
      ],
      "metadata": {
        "id": "G2KdhsBS82xp"
      }
    },
    {
      "cell_type": "code",
      "source": [
        "import numpy as np\n",
        "import pandas as pd\n",
        "array = np.array([[1, 2, 3], [4, 5, 6]])\n",
        "df = pd.DataFrame(array, columns=['A', 'B', 'C'])\n",
        "print(\"DataFrame:\\n\", df)"
      ],
      "metadata": {
        "colab": {
          "base_uri": "https://localhost:8080/"
        },
        "id": "lgHA0V05851a",
        "outputId": "1429ac35-eafd-4b98-dad0-34a75579eb9a"
      },
      "execution_count": 2,
      "outputs": [
        {
          "output_type": "stream",
          "name": "stdout",
          "text": [
            "DataFrame:\n",
            "    A  B  C\n",
            "0  1  2  3\n",
            "1  4  5  6\n"
          ]
        }
      ]
    },
    {
      "cell_type": "markdown",
      "source": [
        "**7. Convert a Pandas DataFrame to a Numpy array.**"
      ],
      "metadata": {
        "id": "T4cXHEJ99C8O"
      }
    },
    {
      "cell_type": "code",
      "source": [
        "numpy_array = df.to_numpy()\n",
        "print(\"Numpy array:\\n\", numpy_array)"
      ],
      "metadata": {
        "colab": {
          "base_uri": "https://localhost:8080/"
        },
        "id": "sipsv6BB9DQh",
        "outputId": "6e9b4efe-9c4a-482c-9f7c-55b7c5e9c8fb"
      },
      "execution_count": 3,
      "outputs": [
        {
          "output_type": "stream",
          "name": "stdout",
          "text": [
            "Numpy array:\n",
            " [[1 2 3]\n",
            " [4 5 6]]\n"
          ]
        }
      ]
    },
    {
      "cell_type": "markdown",
      "source": [
        "**8. Apply a Numpy function to each element of a DataFrame column.**\n"
      ],
      "metadata": {
        "id": "LwhZNzUb9DqW"
      }
    },
    {
      "cell_type": "code",
      "source": [
        "df['A'] = np.sqrt(df['A'])\n",
        "print(\"DataFrame after applying sqrt to column 'A':\\n\", df)\n"
      ],
      "metadata": {
        "colab": {
          "base_uri": "https://localhost:8080/"
        },
        "id": "0qjlEHIP9Gn8",
        "outputId": "28661d78-f544-4d1d-82ec-9aebb1240a3b"
      },
      "execution_count": 6,
      "outputs": [
        {
          "output_type": "stream",
          "name": "stdout",
          "text": [
            "DataFrame after applying sqrt to column 'A':\n",
            "           A  B  C\n",
            "0  1.000000  2  3\n",
            "1  1.414214  5  6\n"
          ]
        }
      ]
    },
    {
      "cell_type": "markdown",
      "source": [
        "**9.Calculate the mean of each column in a DataFrame using Numpy.**"
      ],
      "metadata": {
        "id": "jwZ_d1to9G-_"
      }
    },
    {
      "cell_type": "code",
      "source": [
        "means = np.mean(df.to_numpy(), axis=0)\n",
        "print(\"Means of each column:\", means)"
      ],
      "metadata": {
        "colab": {
          "base_uri": "https://localhost:8080/"
        },
        "id": "jzejm23E9HMV",
        "outputId": "c2d53389-8f26-4389-bd0b-84e63abe1433"
      },
      "execution_count": 5,
      "outputs": [
        {
          "output_type": "stream",
          "name": "stdout",
          "text": [
            "Means of each column: [1.5 3.5 4.5]\n"
          ]
        }
      ]
    },
    {
      "cell_type": "markdown",
      "source": [
        "**10. Use a Numpy array to set values in a Pandas DataFrame based on a condition.**"
      ],
      "metadata": {
        "id": "D5JpZv2F9HYN"
      }
    },
    {
      "cell_type": "code",
      "source": [
        "condition = df.to_numpy() > 2\n",
        "df[condition] = -1\n",
        "print(\"DataFrame after setting values based on condition:\\n\", df)"
      ],
      "metadata": {
        "colab": {
          "base_uri": "https://localhost:8080/"
        },
        "id": "RvrwdTam9Hit",
        "outputId": "9f52114d-8fa1-4edd-f3d6-99fdca5756e9"
      },
      "execution_count": 7,
      "outputs": [
        {
          "output_type": "stream",
          "name": "stdout",
          "text": [
            "DataFrame after setting values based on condition:\n",
            "           A  B  C\n",
            "0  1.000000  2 -1\n",
            "1  1.414214 -1 -1\n"
          ]
        }
      ]
    }
  ]
}