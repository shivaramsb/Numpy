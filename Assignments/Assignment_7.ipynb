{
  "nbformat": 4,
  "nbformat_minor": 0,
  "metadata": {
    "colab": {
      "provenance": []
    },
    "kernelspec": {
      "name": "python3",
      "display_name": "Python 3"
    },
    "language_info": {
      "name": "python"
    }
  },
  "cells": [
    {
      "cell_type": "markdown",
      "source": [
        "**1. What is the purpose of the np.mean function?**"
      ],
      "metadata": {
        "id": "rMUmJWXb8FJC"
      }
    },
    {
      "cell_type": "markdown",
      "source": [
        "The np.mean function calculates the average of array elements along the specified axis.\n"
      ],
      "metadata": {
        "id": "XVifaxc-8FS-"
      }
    },
    {
      "cell_type": "markdown",
      "source": [
        "**2. How is the np.median function used?**"
      ],
      "metadata": {
        "id": "Sp3wbkyU8Fd0"
      }
    },
    {
      "cell_type": "markdown",
      "source": [
        "The np.median function computes the median value of array elements along the specified axis.\n"
      ],
      "metadata": {
        "id": "jiWs0P1Y8Fmv"
      }
    },
    {
      "cell_type": "markdown",
      "source": [
        "**3. Explain the use of the np.var function.**"
      ],
      "metadata": {
        "id": "abNifzwX8Fz4"
      }
    },
    {
      "cell_type": "markdown",
      "source": [
        "The np.var function calculates the variance of array elements along the specified axis, indicating the spread of the data.\n"
      ],
      "metadata": {
        "id": "mCQmkBqc8F8Q"
      }
    },
    {
      "cell_type": "markdown",
      "source": [
        "**4. What does the np.percentile function do?**"
      ],
      "metadata": {
        "id": "JnehpZqX8GGD"
      }
    },
    {
      "cell_type": "markdown",
      "source": [
        "The np.percentile function computes the nth percentile of array elements, showing the value below which a given percentage of observations fall.\n"
      ],
      "metadata": {
        "id": "7ClI7vBl8rN8"
      }
    },
    {
      "cell_type": "markdown",
      "source": [
        "**5. Discuss the use of the np.histogram function.**"
      ],
      "metadata": {
        "id": "3Lm7F6D-8rWv"
      }
    },
    {
      "cell_type": "markdown",
      "source": [
        "The np.histogram function computes the frequency distribution of array elements, dividing the range of values into bins.\n"
      ],
      "metadata": {
        "id": "OAawzJ6Q8reD"
      }
    },
    {
      "cell_type": "markdown",
      "source": [
        "**6. Compute the mean of elements in a 2D Numpy array along the columns.**"
      ],
      "metadata": {
        "id": "G2KdhsBS82xp"
      }
    },
    {
      "cell_type": "code",
      "source": [
        "import numpy as np\n",
        "array = np.array([[1, 2, 3], [4, 5, 6], [7, 8, 9]])\n",
        "mean_columns = np.mean(array, axis=0)\n",
        "print(\"Mean along columns:\", mean_columns)"
      ],
      "metadata": {
        "colab": {
          "base_uri": "https://localhost:8080/"
        },
        "id": "lgHA0V05851a",
        "outputId": "3e34fea4-8fff-4972-d9ca-62e3784b079c"
      },
      "execution_count": 1,
      "outputs": [
        {
          "output_type": "stream",
          "name": "stdout",
          "text": [
            "Mean along columns: [4. 5. 6.]\n"
          ]
        }
      ]
    },
    {
      "cell_type": "markdown",
      "source": [
        "**7. Find the median of elements in a 1D Numpy array.**"
      ],
      "metadata": {
        "id": "T4cXHEJ99C8O"
      }
    },
    {
      "cell_type": "code",
      "source": [
        "array = np.array([1, 3, 5, 7, 9])\n",
        "median_value = np.median(array)\n",
        "print(\"Median of the array:\", median_value)\n"
      ],
      "metadata": {
        "colab": {
          "base_uri": "https://localhost:8080/"
        },
        "id": "sipsv6BB9DQh",
        "outputId": "ab53da60-1878-425b-d205-1c1a322f0919"
      },
      "execution_count": 2,
      "outputs": [
        {
          "output_type": "stream",
          "name": "stdout",
          "text": [
            "Median of the array: 5.0\n"
          ]
        }
      ]
    },
    {
      "cell_type": "markdown",
      "source": [
        "**8.Calculate the variance of elements in a 2D Numpy array.**\n"
      ],
      "metadata": {
        "id": "LwhZNzUb9DqW"
      }
    },
    {
      "cell_type": "code",
      "source": [
        "variance_value = np.var(array)\n",
        "print(\"Variance of elements:\", variance_value)\n"
      ],
      "metadata": {
        "colab": {
          "base_uri": "https://localhost:8080/"
        },
        "id": "0qjlEHIP9Gn8",
        "outputId": "8fd12891-07a5-4518-c155-893265a64fb4"
      },
      "execution_count": 3,
      "outputs": [
        {
          "output_type": "stream",
          "name": "stdout",
          "text": [
            "Variance of elements: 8.0\n"
          ]
        }
      ]
    },
    {
      "cell_type": "markdown",
      "source": [
        "**9. Determine the 90th percentile of a 1D Numpy array.**"
      ],
      "metadata": {
        "id": "jwZ_d1to9G-_"
      }
    },
    {
      "cell_type": "code",
      "source": [
        "array = np.array([1, 2, 3, 4, 5, 6, 7, 8, 9, 10])\n",
        "percentile_90 = np.percentile(array, 90)\n",
        "print(\"90th percentile:\", percentile_90)\n"
      ],
      "metadata": {
        "colab": {
          "base_uri": "https://localhost:8080/"
        },
        "id": "jzejm23E9HMV",
        "outputId": "c35c09a7-b904-41ad-91b5-a7e1bac0b127"
      },
      "execution_count": 4,
      "outputs": [
        {
          "output_type": "stream",
          "name": "stdout",
          "text": [
            "90th percentile: 9.1\n"
          ]
        }
      ]
    },
    {
      "cell_type": "markdown",
      "source": [
        "**10. Generate a histogram of a 1D Numpy array with 5 bins.**"
      ],
      "metadata": {
        "id": "D5JpZv2F9HYN"
      }
    },
    {
      "cell_type": "code",
      "source": [
        "histogram, bin_edges = np.histogram(array, bins=5)\n",
        "print(\"Histogram:\", histogram)\n",
        "print(\"Bin edges:\", bin_edges)"
      ],
      "metadata": {
        "colab": {
          "base_uri": "https://localhost:8080/"
        },
        "id": "RvrwdTam9Hit",
        "outputId": "4d66a96c-5172-43de-8640-cdb99df455e9"
      },
      "execution_count": 5,
      "outputs": [
        {
          "output_type": "stream",
          "name": "stdout",
          "text": [
            "Histogram: [2 2 2 2 2]\n",
            "Bin edges: [ 1.   2.8  4.6  6.4  8.2 10. ]\n"
          ]
        }
      ]
    }
  ]
}