{
  "nbformat": 4,
  "nbformat_minor": 0,
  "metadata": {
    "colab": {
      "provenance": []
    },
    "kernelspec": {
      "name": "python3",
      "display_name": "Python 3"
    },
    "language_info": {
      "name": "python"
    }
  },
  "cells": [
    {
      "cell_type": "code",
      "execution_count": null,
      "metadata": {
        "id": "rGgGoED7vq1Z"
      },
      "outputs": [],
      "source": [
        "Question 1: Create a 1D numpy array of the first 10 natural numbers."
      ]
    },
    {
      "cell_type": "code",
      "source": [
        "import numpy as np\n",
        "\n",
        "array_1d = np.arange(1, 11)\n",
        "print(\"1D array of the first 10 natural numbers:\", array_1d)\n"
      ],
      "metadata": {
        "colab": {
          "base_uri": "https://localhost:8080/"
        },
        "id": "FTZWlR24vsbx",
        "outputId": "d2f6b1ad-99cb-49cc-e79c-bf50f5c3e946"
      },
      "execution_count": 1,
      "outputs": [
        {
          "output_type": "stream",
          "name": "stdout",
          "text": [
            "1D array of the first 10 natural numbers: [ 1  2  3  4  5  6  7  8  9 10]\n"
          ]
        }
      ]
    },
    {
      "cell_type": "code",
      "source": [
        "Question 2: Create a 2D numpy array of shape (3, 4) with values ranging from 10 to 21 (exclusive)."
      ],
      "metadata": {
        "id": "ni3HYXBHvvJk"
      },
      "execution_count": null,
      "outputs": []
    },
    {
      "cell_type": "code",
      "source": [
        "array_2d = np.arange(10, 22).reshape(3, 4)\n",
        "print(\"2D array of shape (3, 4) with values from 10 to 21:\\n\", array_2d)"
      ],
      "metadata": {
        "colab": {
          "base_uri": "https://localhost:8080/"
        },
        "id": "UQNrRvqvv3YB",
        "outputId": "7b0e8895-25bd-4808-90a3-116be8ab689a"
      },
      "execution_count": 2,
      "outputs": [
        {
          "output_type": "stream",
          "name": "stdout",
          "text": [
            "2D array of shape (3, 4) with values from 10 to 21:\n",
            " [[10 11 12 13]\n",
            " [14 15 16 17]\n",
            " [18 19 20 21]]\n"
          ]
        }
      ]
    },
    {
      "cell_type": "code",
      "source": [
        "Question 3: Create a 3x3 numpy array with random values and find the mean of the array."
      ],
      "metadata": {
        "id": "MNNCV8p8v5MX"
      },
      "execution_count": null,
      "outputs": []
    },
    {
      "cell_type": "code",
      "source": [
        "random_array = np.random.random((3, 3))\n",
        "mean_value = np.mean(random_array)\n",
        "print(\"3x3 random array:\\n\", random_array)\n",
        "print(\"Mean of the array:\", mean_value)\n"
      ],
      "metadata": {
        "colab": {
          "base_uri": "https://localhost:8080/"
        },
        "id": "NWIIb3ZTv-Fg",
        "outputId": "a9002141-1899-4685-a9a9-aae2d8a368e7"
      },
      "execution_count": 3,
      "outputs": [
        {
          "output_type": "stream",
          "name": "stdout",
          "text": [
            "3x3 random array:\n",
            " [[0.20664348 0.06565249 0.56539792]\n",
            " [0.25496635 0.90866635 0.45213876]\n",
            " [0.97168607 0.8669042  0.89286051]]\n",
            "Mean of the array: 0.5761017917532847\n"
          ]
        }
      ]
    },
    {
      "cell_type": "code",
      "source": [
        "Question 4: Create a numpy array with 20 linearly spaced values between 1 and 5."
      ],
      "metadata": {
        "id": "YGl-oiKcv-hm"
      },
      "execution_count": null,
      "outputs": []
    },
    {
      "cell_type": "code",
      "source": [
        "linear_array = np.linspace(1, 5, 20)\n",
        "print(\"20 linearly spaced values between 1 and 5:\\n\", linear_array)\n"
      ],
      "metadata": {
        "colab": {
          "base_uri": "https://localhost:8080/"
        },
        "id": "Ulc4TnfjwCeO",
        "outputId": "99372e32-2d13-4879-b0a6-f5265a439bd6"
      },
      "execution_count": 4,
      "outputs": [
        {
          "output_type": "stream",
          "name": "stdout",
          "text": [
            "20 linearly spaced values between 1 and 5:\n",
            " [1.         1.21052632 1.42105263 1.63157895 1.84210526 2.05263158\n",
            " 2.26315789 2.47368421 2.68421053 2.89473684 3.10526316 3.31578947\n",
            " 3.52631579 3.73684211 3.94736842 4.15789474 4.36842105 4.57894737\n",
            " 4.78947368 5.        ]\n"
          ]
        }
      ]
    },
    {
      "cell_type": "code",
      "source": [
        "Question 5: Create a numpy array of shape (4, 4) and fill it with a checkerboard pattern (alternating 0s and 1s)."
      ],
      "metadata": {
        "id": "WfJP6LKfwChq"
      },
      "execution_count": null,
      "outputs": []
    },
    {
      "cell_type": "code",
      "source": [
        "checkerboard_array = np.zeros((4, 4), dtype=int)\n",
        "checkerboard_array[1::2, ::2] = 1\n",
        "checkerboard_array[::2, 1::2] = 1\n",
        "print(\"4x4 checkerboard pattern:\\n\", checkerboard_array)\n"
      ],
      "metadata": {
        "colab": {
          "base_uri": "https://localhost:8080/"
        },
        "id": "n0_plGt9wCkj",
        "outputId": "996576ad-e258-439e-c95b-9fa52d4185f8"
      },
      "execution_count": 5,
      "outputs": [
        {
          "output_type": "stream",
          "name": "stdout",
          "text": [
            "4x4 checkerboard pattern:\n",
            " [[0 1 0 1]\n",
            " [1 0 1 0]\n",
            " [0 1 0 1]\n",
            " [1 0 1 0]]\n"
          ]
        }
      ]
    },
    {
      "cell_type": "code",
      "source": [
        "Question 6: Create a 5x5 identity matrix using numpy.\n"
      ],
      "metadata": {
        "id": "DFwZXXAowCnt"
      },
      "execution_count": null,
      "outputs": []
    },
    {
      "cell_type": "code",
      "source": [
        "identity_matrix = np.eye(5)\n",
        "print(\"5x5 identity matrix:\\n\", identity_matrix)\n"
      ],
      "metadata": {
        "colab": {
          "base_uri": "https://localhost:8080/"
        },
        "id": "r2RHz09PwMNx",
        "outputId": "dd272bbd-9dcd-40f1-ba4d-958463341762"
      },
      "execution_count": 6,
      "outputs": [
        {
          "output_type": "stream",
          "name": "stdout",
          "text": [
            "5x5 identity matrix:\n",
            " [[1. 0. 0. 0. 0.]\n",
            " [0. 1. 0. 0. 0.]\n",
            " [0. 0. 1. 0. 0.]\n",
            " [0. 0. 0. 1. 0.]\n",
            " [0. 0. 0. 0. 1.]]\n"
          ]
        }
      ]
    },
    {
      "cell_type": "code",
      "source": [
        "Question 7: Create a numpy array by repeating the array [1, 2, 3] five times.\n"
      ],
      "metadata": {
        "id": "2A9IxAxcwMRM"
      },
      "execution_count": null,
      "outputs": []
    },
    {
      "cell_type": "code",
      "source": [
        "repeated_array = np.tile([1, 2, 3], 5)\n",
        "print(\"Array [1, 2, 3] repeated five times:\", repeated_array)\n"
      ],
      "metadata": {
        "colab": {
          "base_uri": "https://localhost:8080/"
        },
        "id": "CwtaP1EnwMU0",
        "outputId": "2300a761-86ce-465e-b767-a0a6ce91d043"
      },
      "execution_count": 7,
      "outputs": [
        {
          "output_type": "stream",
          "name": "stdout",
          "text": [
            "Array [1, 2, 3] repeated five times: [1 2 3 1 2 3 1 2 3 1 2 3 1 2 3]\n"
          ]
        }
      ]
    },
    {
      "cell_type": "code",
      "source": [
        "Question 8: Create a numpy array of shape (4, 4) with random integers between 0 and 10, and then replace all values greater than 5 with 5.\n"
      ],
      "metadata": {
        "id": "UEPCWoB7wTx-"
      },
      "execution_count": null,
      "outputs": []
    },
    {
      "cell_type": "code",
      "source": [
        "random_int_array = np.random.randint(0, 11, size=(4, 4))\n",
        "print(\"Original 4x4 array with random integers between 0 and 10:\\n\", random_int_array)\n",
        "\n",
        "random_int_array[random_int_array > 5] = 5\n",
        "print(\"Array with values greater than 5 replaced by 5:\\n\", random_int_array)\n"
      ],
      "metadata": {
        "colab": {
          "base_uri": "https://localhost:8080/"
        },
        "id": "Z74Nv3JCwYLK",
        "outputId": "f216ea0e-3f92-4553-d840-2a6b3ac9fa5d"
      },
      "execution_count": 8,
      "outputs": [
        {
          "output_type": "stream",
          "name": "stdout",
          "text": [
            "Original 4x4 array with random integers between 0 and 10:\n",
            " [[ 2  9  5  7]\n",
            " [ 0 10  6  0]\n",
            " [ 8  4  1  6]\n",
            " [ 3  1  2  6]]\n",
            "Array with values greater than 5 replaced by 5:\n",
            " [[2 5 5 5]\n",
            " [0 5 5 0]\n",
            " [5 4 1 5]\n",
            " [3 1 2 5]]\n"
          ]
        }
      ]
    },
    {
      "cell_type": "code",
      "source": [
        "Question 9: Find the sum of all the elements in a 2D numpy array.\n"
      ],
      "metadata": {
        "id": "9_Gu1BdywYOZ"
      },
      "execution_count": null,
      "outputs": []
    },
    {
      "cell_type": "code",
      "source": [
        "array_2d = np.array([[1, 2, 3], [4, 5, 6], [7, 8, 9]])\n",
        "total_sum = np.sum(array_2d)\n",
        "print(\"2D array:\\n\", array_2d)\n",
        "print(\"Sum of all elements:\", total_sum)\n"
      ],
      "metadata": {
        "colab": {
          "base_uri": "https://localhost:8080/"
        },
        "id": "9a9xdPS0wYRV",
        "outputId": "736002ff-4fbf-414b-aa70-bfec0ae3165a"
      },
      "execution_count": 9,
      "outputs": [
        {
          "output_type": "stream",
          "name": "stdout",
          "text": [
            "2D array:\n",
            " [[1 2 3]\n",
            " [4 5 6]\n",
            " [7 8 9]]\n",
            "Sum of all elements: 45\n"
          ]
        }
      ]
    },
    {
      "cell_type": "code",
      "source": [
        "Question 10: Compute the dot product of two 1D arrays: [1, 2, 3] and [4, 5, 6].\n"
      ],
      "metadata": {
        "id": "FlCFlA_RwYUd"
      },
      "execution_count": null,
      "outputs": []
    },
    {
      "cell_type": "code",
      "source": [
        "array1 = np.array([1, 2, 3])\n",
        "array2 = np.array([4, 5, 6])\n",
        "dot_product = np.dot(array1, array2)\n",
        "print(\"Dot product of [1, 2, 3] and [4, 5, 6]:\", dot_product)\n"
      ],
      "metadata": {
        "colab": {
          "base_uri": "https://localhost:8080/"
        },
        "id": "jUorOvjCwg3v",
        "outputId": "bffd690a-8272-4447-f126-ecf351598b5f"
      },
      "execution_count": 10,
      "outputs": [
        {
          "output_type": "stream",
          "name": "stdout",
          "text": [
            "Dot product of [1, 2, 3] and [4, 5, 6]: 32\n"
          ]
        }
      ]
    },
    {
      "cell_type": "code",
      "source": [],
      "metadata": {
        "id": "BtEueJtdwhc-"
      },
      "execution_count": null,
      "outputs": []
    }
  ]
}